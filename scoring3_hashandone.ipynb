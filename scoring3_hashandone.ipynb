{
  "cells": [
    {
      "cell_type": "code",
      "execution_count": 102,
      "id": "26c96c16",
      "metadata": {
        "colab": {
          "base_uri": "https://localhost:8080/"
        },
        "id": "26c96c16",
        "outputId": "70708e36-84cd-4a8e-8237-9ee73bdee139"
      },
      "outputs": [
        {
          "output_type": "stream",
          "name": "stdout",
          "text": [
            "Drive already mounted at /content/drive; to attempt to forcibly remount, call drive.mount(\"/content/drive\", force_remount=True).\n"
          ]
        }
      ],
      "source": [
        "from google.colab import drive\n",
        "drive.mount('/content/drive')"
      ]
    },
    {
      "cell_type": "code",
      "execution_count": 103,
      "id": "048978ff",
      "metadata": {
        "id": "048978ff"
      },
      "outputs": [],
      "source": [
        "import tensorflow as tf\n",
        "\n",
        "from tensorflow import keras\n",
        "from tensorflow.keras.layers import Dense\n",
        "from tensorflow.keras.layers import Flatten\n",
        "from tensorflow.keras.layers import Input\n",
        "from tensorflow.keras.layers import BatchNormalization\n",
        "from tensorflow.keras.layers import Dropout\n",
        "from tensorflow.keras.layers import concatenate\n",
        "from tensorflow.keras.layers import Embedding\n",
        "from tensorflow.keras.preprocessing.text import hashing_trick\n",
        "from tensorflow.keras.models import Model\n",
        "from sklearn.model_selection import train_test_split\n",
        "from tensorflow.keras.utils import plot_model\n",
        "from sklearn.preprocessing import StandardScaler\n",
        "from sklearn.preprocessing import MinMaxScaler\n",
        "from sklearn.preprocessing import OneHotEncoder\n",
        "\n",
        "import pandas as pd\n",
        "import numpy as np\n",
        "import matplotlib.pyplot as plt\n",
        "import time\n",
        "import random"
      ]
    },
    {
      "cell_type": "code",
      "execution_count": 104,
      "id": "zJykvf1ECM9i",
      "metadata": {
        "colab": {
          "base_uri": "https://localhost:8080/"
        },
        "id": "zJykvf1ECM9i",
        "outputId": "b5bf2fc7-ec65-4170-a8a6-822dc7f5b755"
      },
      "outputs": [
        {
          "output_type": "stream",
          "name": "stdout",
          "text": [
            "600 1000 150 10\n"
          ]
        }
      ],
      "source": [
        "wynik1 = round(random.randint(200, 2000), -2)\n",
        "wynik2 = round(random.randint(100, 1500), -2)\n",
        "wynik3 = round(random.randint(20, 200), -1)\n",
        "num_epochs = round(random.randint(10, 40), 0)\n",
        "\n",
        "batchsize = 500\n",
        "\n",
        "print(wynik1, wynik2, wynik3, num_epochs)"
      ]
    },
    {
      "cell_type": "code",
      "execution_count": 105,
      "id": "56ef4fde",
      "metadata": {
        "id": "56ef4fde"
      },
      "outputs": [],
      "source": [
        "metrics = [keras.metrics.TruePositives(name='tp'),\n",
        "           keras.metrics.FalsePositives(name='fp'),\n",
        "           keras.metrics.TrueNegatives(name='tn'),\n",
        "           keras.metrics.FalseNegatives(name='fn'),\n",
        "           keras.metrics.BinaryAccuracy(name='accuracy'),\n",
        "           keras.metrics.Precision(name='precision'),\n",
        "           keras.metrics.Recall(name='recall'),\n",
        "           keras.metrics.AUC(name='auc')]"
      ]
    },
    {
      "cell_type": "code",
      "execution_count": 106,
      "id": "c15a04bf",
      "metadata": {
        "id": "c15a04bf"
      },
      "outputs": [],
      "source": [
        "t=time.time()"
      ]
    },
    {
      "cell_type": "code",
      "execution_count": 107,
      "id": "6fbaab8e",
      "metadata": {
        "id": "6fbaab8e"
      },
      "outputs": [],
      "source": [
        "dset = pd.read_csv('/content/drive/MyDrive/koniecztym/data/probkauczaca2.csv', sep=';',encoding='utf-8')\n",
        "\n",
        "Y = dset['Default'].values"
      ]
    },
    {
      "cell_type": "code",
      "execution_count": 108,
      "id": "020fbbc0",
      "metadata": {
        "id": "020fbbc0"
      },
      "outputs": [],
      "source": [
        "vartype =  pd.read_excel('/content/drive/MyDrive/koniecztym/data/rodzaje_zmiennych.xlsx')"
      ]
    },
    {
      "cell_type": "code",
      "execution_count": 109,
      "id": "9449d419",
      "metadata": {
        "colab": {
          "base_uri": "https://localhost:8080/"
        },
        "id": "9449d419",
        "outputId": "aca7f857-2a4f-44ae-f050-9605bce811fe"
      },
      "outputs": [
        {
          "output_type": "stream",
          "name": "stdout",
          "text": [
            "['Przychody', 'Suma_bilansowa', 'CNT_WPPLN', 'CNT_OWPLN', 'CNT_WKPLN', 'OWPRC', 'WKPRC', 'MARZA', 'Admin', 'PROWIZJA', 'Kapital']\n",
            "['Default', 'Czy_cesja', 'Czy_leasing_zwrotny', 'Wynik_sprawdzen_KRD']\n",
            "['Liczba_prawcownikow', 'Rok_produkcji', 'Okres_umowy', 'CzasDzialalnosciMce']\n",
            "['OBT_Type2', 'OBT_IFNEW', 'Czy_autoryzowany_dostawca', 'Waluta', 'Rodzaj_harmonogramu', 'Rodzaj_oprocentowania', 'Dodatkowe_zabezpieczenie_transakcji', 'Kanal_pozyskania', 'Oddzial', 'Rodzaj_umowy', 'Procedura', 'PKD_2007', 'PROW_Z_MARZY', 'forma_prawna', 'Grupowanie_form_prawnych']\n"
          ]
        }
      ],
      "source": [
        "columnX=[]\n",
        "X_binary = []\n",
        "X_discrete = []\n",
        "X_text_cat = []\n",
        "for i in range(vartype.shape[1]):\n",
        "    if vartype.iloc[0][i] == \"numeric_continuous\":\n",
        "        columnX.append(dset.columns[i])\n",
        "    if vartype.iloc[0][i] == \"numeric_binary\":\n",
        "        X_binary.append(dset.columns[i])\n",
        "    if vartype.iloc[0][i] == \"numeric_discrete\":\n",
        "        X_discrete.append(dset.columns[i])\n",
        "    if vartype.iloc[0][i] == \"text_categorical\":\n",
        "        X_text_cat.append(dset.columns[i])\n",
        "\n",
        "print(columnX)\n",
        "print(X_binary)\n",
        "print(X_discrete)\n",
        "print(X_text_cat)\n"
      ]
    },
    {
      "cell_type": "code",
      "execution_count": 110,
      "id": "01104a0b",
      "metadata": {
        "id": "01104a0b"
      },
      "outputs": [],
      "source": [
        "X = dset.loc[:, columnX].astype(float)\n",
        "X['Kapital'] = X['Kapital'].fillna(0)"
      ]
    },
    {
      "cell_type": "code",
      "execution_count": 111,
      "id": "54b39c17",
      "metadata": {
        "id": "54b39c17"
      },
      "outputs": [],
      "source": [
        "scaler = StandardScaler()\n",
        "\n",
        "# Standaryzacja wszystkich zmiennych w dataframe X\n",
        "X_standardized = scaler.fit_transform(X)\n",
        "# Tworzenie nowego dataframe z zstandaryzowanymi danymi\n",
        "X_standardized_df = pd.DataFrame(X_standardized, columns=X.columns)"
      ]
    },
    {
      "cell_type": "code",
      "execution_count": 112,
      "id": "418621ec",
      "metadata": {
        "id": "418621ec"
      },
      "outputs": [],
      "source": [
        "# Tworzenie obiektu MinMaxScaler\n",
        "scaler_minmax = MinMaxScaler()\n",
        "\n",
        "# Normalizacja min-max dla zmiennych z X_discrete\n",
        "for column_name in X_discrete:\n",
        "    dset[column_name] = scaler_minmax.fit_transform(dset[[column_name]])"
      ]
    },
    {
      "cell_type": "code",
      "execution_count": 113,
      "id": "04a9513b",
      "metadata": {
        "id": "04a9513b"
      },
      "outputs": [],
      "source": [
        "X_bin = dset.loc[:,['Czy_cesja', 'Czy_leasing_zwrotny', 'Wynik_sprawdzen_KRD']].astype(str)\n",
        "X_yesno = pd.DataFrame(X_bin['Czy_cesja'].eq('1').mul(1))\n",
        "#X_yesno = pd.DataFrame(X_binary['OBT_IFNEW'].eq('New').mul(1))\n",
        "#X_yesno['Czy_aut_dostawca'] = X_binary['Czy_autoryzowany_dostawca'].eq('T').mul(1)\n",
        "#X_yesno['Waluta'] = X_binary['Waluta'].eq('PLN').mul(1)\n",
        "#X_yesno['Rodzaj_harm'] = X_binary['Rodzaj_harmonogramu'].eq('liniowy').mul(1)\n",
        "#X_yesno['Rodzaj_oproc'] = X_binary['Rodzaj_oprocentowania'].eq('V').mul(1)\n",
        "##X_yesno['Dodat_zabezp_trans'] = X_binary['Dodatkowe_zabezpieczenie_transakcji'].eq('WEKSEL').mul(1)\n",
        "#X_yesno['Kanal_pozysk'] = X_binary['Kanal_pozyskania'].eq('Porednik').mul(1)\n",
        "#X_yesno['Cesja'] = X_bin['Czy_cesja'].eq('1').mul(1)\n",
        "#X_yesno['Auto_luks'] = X_binary['Auto_luksusowe'].eq('1').mul(1)\n",
        "#X_yesno['RSEUO'] = X_binary['RS_EUO'].eq('1').mul(1)\n",
        "#X_yesno['BiuroWirtK'] = X_binary['BiuroWirtualneKlient'].eq('1').mul(1)\n",
        "#X_yesno['BiuroWirtD'] = X_binary['BiuroWirtualneDostawca'].eq('1').mul(1)\n",
        "#X_yesno['BiuroWirtP'] = X_binary['BiuroWirtualnePosrednik'].eq('1').mul(1)\n",
        "X_yesno['Czy_leas_zwr'] = X_bin['Czy_leasing_zwrotny'].astype(float)\n",
        "X_yesno['Wyn_spraw_KRD'] = X_bin['Wynik_sprawdzen_KRD'].astype(float)"
      ]
    },
    {
      "cell_type": "code",
      "execution_count": 114,
      "id": "b320d86f",
      "metadata": {
        "id": "b320d86f"
      },
      "outputs": [],
      "source": [
        "# ----- ładowanie danych głównego kodu PKD ------\n",
        "# w tym przypadku wykorzystywane są tylko fragmenty PKD /sekcja, dział, grupa/\n",
        "\n",
        "#dodać zmienną x_text_kat - zrobione\n",
        "\n",
        "#zaminić dset na zmienną X_text_cat - zrobić!\n",
        "\n",
        "#X_text_cat['kodpkd'] = X_text_cat['PKD_2007'].str.get(0)+X_text_cat['PKD_2007'].str.get(1)+X_text_cat['PKD_2007'].str.get(2)\n",
        "dset['kodpkd'] = dset['PKD_2007'].str.get(0)+dset['PKD_2007'].str.get(1)+dset['PKD_2007'].str.get(2)\n"
      ]
    },
    {
      "cell_type": "code",
      "execution_count": 115,
      "id": "3cba5597",
      "metadata": {
        "id": "3cba5597"
      },
      "outputs": [],
      "source": [
        "# ---- ładowanie danych rodzaj umowy; oddział; grupowanie form prawnych; branza; OBT_Type2 (czyli rodzaj przedmiotu lisingu)\n",
        "#zaminić dset na zmienną X_text_cat - zrobić\n",
        "dset['rodzumowy'] = dset['Rodzaj_umowy'].astype(str)\n",
        "dset['oddzial1'] = dset['Oddzial'].astype(str)\n",
        "dset['oddzial1'] = dset['oddzial1'].str.replace(' ', '')\n",
        "dset['oddzial1'] = dset['oddzial1'].str.replace('-', '')\n",
        "dset['oddzial1'] = dset['oddzial1'].str.strip()\n",
        "dset['grupowanie'] = dset['Grupowanie_form_prawnych'].astype(str)\n",
        "dset['branza1'] = dset['Branza'].astype(str)\n",
        "dset['OBT_Type2'] = dset['OBT_Type2'].str.replace(' ', '')\n",
        "dset['OBT_Type2'] = dset['OBT_Type2'].str.replace('&', '')\n",
        "\n",
        "#X_text_cat['rodzumowy'] = X_text_cat['Rodzaj_umowy'].astype(str)\n",
        "#X_text_cat['oddzial1'] = X_text_cat['Oddzial'].astype(str)\n",
        "#X_text_cat['oddzial1'] = X_text_cat['oddzial1'].str.replace(' ', '')\n",
        "#X_text_cat['oddzial1'] = X_text_cat['oddzial1'].str.replace('-', '')\n",
        "#X_text_cat['oddzial1'] = X_text_cat['oddzial1'].str.strip()\n",
        "#X_text_cat['grupowanie'] = X_text_cat['Grupowanie_form_prawnych'].astype(str)\n",
        "#X_text_cat['branza1'] = X_text_cat['Branza'].astype(str)\n",
        "#X_text_cat['OBT_Type2'] = X_text_cat['OBT_Type2'].str.replace(' ', '')\n",
        "#X_text_cat['OBT_Type2'] = X_text_cat['OBT_Type2'].str.replace('&', '')"
      ]
    },
    {
      "cell_type": "code",
      "execution_count": 116,
      "id": "877a8bda",
      "metadata": {
        "id": "877a8bda"
      },
      "outputs": [],
      "source": [
        "# ---- ładowanie danych z bazy danych z tabeli cechy scoringowe\n",
        "#X_scor = pd.DataFrame(dset.iloc[:, 35:92].values.astype(int)) # 57 kolumn"
      ]
    },
    {
      "cell_type": "code",
      "execution_count": 117,
      "id": "90166752",
      "metadata": {
        "id": "90166752"
      },
      "outputs": [],
      "source": [
        "# ---- ładowanie danych: kody pkd; wojewodztwa; geneza społeczności\n",
        "#X_cat = pd.DataFrame(dset.iloc[:, 93:415].values.astype(float)) # 392 kolumn\n",
        "#X_cat = X_cat.replace(to_replace = np.nan, value= 0)"
      ]
    },
    {
      "cell_type": "code",
      "execution_count": 118,
      "id": "74123a1f",
      "metadata": {
        "id": "74123a1f"
      },
      "outputs": [],
      "source": [
        "from sklearn.preprocessing import OneHotEncoder\n",
        "import pandas as pd\n",
        "\n",
        "# ---------- kodowanie/haszowanie danych (tutaj stringów) na wartości liczbowe\n",
        "X_pkd = dset['kodpkd'].astype(str)\n",
        "pkd_size = 272\n",
        "encoded_pkd_hash = [hash(str(d)) % pkd_size for d in X_pkd]\n",
        "X_pkd_hash = pd.DataFrame(encoded_pkd_hash, columns=['pkd_hash'])\n",
        "\n",
        "encoder = OneHotEncoder(sparse_output=False)  # Ustawienie sparse na False, aby uniknąć ostrzeżenia\n",
        "\n",
        "# One-Hot Encoding dla 'rodzumowy'\n",
        "X_rumowy_onehot = encoder.fit_transform(dset[['rodzumowy']])\n",
        "X_rumowy = pd.DataFrame(X_rumowy_onehot, columns=[f'rumowy_{i}' for i in range(X_rumowy_onehot.shape[1])])\n",
        "\n",
        "# Hashing Trick dla 'rodzumowy'\n",
        "rumowy_size = 4\n",
        "encoded_rumowy_hash = [hash(str(d)) % rumowy_size for d in dset['rodzumowy']]\n",
        "X_rumowy_hash = pd.DataFrame(encoded_rumowy_hash, columns=['rumowy_hash'])\n",
        "\n",
        "# One-Hot Encoding dla 'grupowanie'\n",
        "X_grupowanie_onehot = encoder.fit_transform(dset[['grupowanie']])\n",
        "X_grupowanie = pd.DataFrame(X_grupowanie_onehot, columns=[f'grupowanie_{i}' for i in range(X_grupowanie_onehot.shape[1])])\n",
        "\n",
        "# Hashing Trick dla 'grupowanie'\n",
        "grupowanie_size = 4\n",
        "encoded_grupowanie_hash = [hash(str(d)) % grupowanie_size for d in dset['grupowanie']]\n",
        "X_grupowanie_hash = pd.DataFrame(encoded_grupowanie_hash, columns=['grupowanie_hash'])\n",
        "\n",
        "# One-Hot Encoding dla 'oddzial1'\n",
        "X_oddzial1_onehot = encoder.fit_transform(dset[['oddzial1']])\n",
        "X_oddzial1 = pd.DataFrame(X_oddzial1_onehot, columns=[f'oddzial1_{i}' for i in range(X_oddzial1_onehot.shape[1])])\n",
        "\n",
        "# Hashing Trick dla 'oddzial1'\n",
        "oddzial1_size = 24\n",
        "encoded_oddzial1_hash = [hash(str(d)) % oddzial1_size for d in dset['oddzial1']]\n",
        "X_oddzial1_hash = pd.DataFrame(encoded_oddzial1_hash, columns=['oddzial1_hash'])\n",
        "\n",
        "# One-Hot Encoding dla 'branza1'\n",
        "X_branza1_onehot = encoder.fit_transform(dset[['branza1']])\n",
        "X_branza1 = pd.DataFrame(X_branza1_onehot, columns=[f'branza1_{i}' for i in range(X_branza1_onehot.shape[1])])\n",
        "\n",
        "# Hashing Trick dla 'branza1'\n",
        "branza1_size = 7\n",
        "encoded_branza1_hash = [hash(str(d)) % branza1_size for d in dset['branza1']]\n",
        "X_branza1_hash = pd.DataFrame(encoded_branza1_hash, columns=['branza1_hash'])\n",
        "\n",
        "# One-Hot Encoding dla 'OBT_Type2'\n",
        "X_objlise_onehot = encoder.fit_transform(dset[['OBT_Type2']])\n",
        "X_objlise = pd.DataFrame(X_objlise_onehot, columns=[f'OBT_Type2_{i}' for i in range(X_objlise_onehot.shape[1])])\n",
        "\n",
        "# Hashing Trick dla 'OBT_Type2'\n",
        "objlise_size = 7\n",
        "encoded_OBT_Type2_hash = [hash(str(d)) % objlise_size for d in dset['OBT_Type2']]\n",
        "X_objlise_hash = pd.DataFrame(encoded_OBT_Type2_hash, columns=['OBT_Type2_hash'])\n",
        "\n"
      ]
    },
    {
      "cell_type": "code",
      "execution_count": 119,
      "id": "f2664bed",
      "metadata": {
        "id": "f2664bed"
      },
      "outputs": [],
      "source": [
        "tdset = pd.read_csv('/content/drive/MyDrive/koniecztym/data/probkatestowa2.csv', sep=';',encoding='utf-8')\n",
        "del tdset['Data_bilansowa']\n",
        "\n",
        "tY = tdset['Default'].values"
      ]
    },
    {
      "cell_type": "code",
      "execution_count": 120,
      "id": "58a86b5d",
      "metadata": {
        "id": "58a86b5d"
      },
      "outputs": [],
      "source": [
        "#print(tdset)\n",
        "\n",
        "tX = tdset.loc[:, columnX].astype(float)\n",
        "# usuwa Null z 3 kolumn\n",
        "\n",
        "tX['Kapital'] = tX['Kapital'].fillna(0)\n",
        "\n",
        "tscaler = StandardScaler()\n",
        "\n",
        "# Standaryzacja wszystkich zmiennych w dataframe X\n",
        "tX_standardized = scaler.fit_transform(tX)\n",
        "# Tworzenie nowego dataframe z zstandaryzowanymi danymi\n",
        "tX_standardized_df = pd.DataFrame(tX_standardized, columns=tX.columns)\n",
        "\n",
        "# Tworzenie obiektu MinMaxScaler\n",
        "tscaler_minmax = MinMaxScaler()\n",
        "\n",
        "# Normalizacja min-max dla zmiennych z X_discrete\n",
        "for column_name in X_discrete:\n",
        "    tdset[column_name] = scaler_minmax.fit_transform(tdset[[column_name]])\n",
        "\n",
        "tX_bin = tdset.loc[:,['Czy_cesja', 'Czy_leasing_zwrotny', 'Wynik_sprawdzen_KRD']].astype(str)\n",
        "\n",
        "tX_yesno = pd.DataFrame(tX_bin['Czy_cesja'].eq('1').mul(1))\n",
        "#tX_yesno['Czy_aut_dostawca'] = tX_binary['Czy_autoryzowany_dostawca'].eq('T').mul(1)\n",
        "#tX_yesno['Waluta'] = tX_binary['Waluta'].eq('PLN').mul(1)\n",
        "#tX_yesno['Rodzaj_harm'] = tX_binary['Rodzaj_harmonogramu'].eq('liniowy').mul(1)\n",
        "#tX_yesno['Rodzaj_oproc'] = tX_binary['Rodzaj_oprocentowania'].eq('V').mul(1)\n",
        "#tX_yesno['Dodat_zabezp_trans'] = tX_binary['Dodatkowe_zabezpieczenie_transakcji'].eq('WEKSEL').mul(1)\n",
        "#tX_yesno['Kanal_pozysk'] = tX_binary['Kanal_pozyskania'].eq('Porednik').mul(1)\n",
        "#tX_yesno['Cesja'] = tX_bin['Czy_cesja'].eq('1').mul(1)\n",
        "#tX_yesno['Auto_luks'] = tX_binary['Auto_luksusowe'].eq('1').mul(1)\n",
        "#tX_yesno['RSEUO'] = tX_binary['RS_EUO'].eq('1').mul(1)\n",
        "#tX_yesno['BiuroWirtK'] = tX_binary['BiuroWirtualneKlient'].eq('1').mul(1)\n",
        "#tX_yesno['BiuroWirtD'] = tX_binary['BiuroWirtualneDostawca'].eq('1').mul(1)\n",
        "#tX_yesno['BiuroWirtP'] = tX_binary['BiuroWirtualnePosrednik'].eq('1').mul(1)\n",
        "tX_yesno['Czy_leas_zwr'] = tX_bin['Czy_leasing_zwrotny'].astype(float)\n",
        "tX_yesno['Wyn_spraw_KRD'] = tX_bin['Wynik_sprawdzen_KRD'].astype(float)\n",
        "tdset['kodpkd'] = tdset['PKD_2007'].str.get(0)+tdset['PKD_2007'].str.get(1)+tdset['PKD_2007'].str.get(2)\n",
        "\n",
        "tdset['rodzumowy'] = tdset['Rodzaj_umowy'].astype(str)\n",
        "tdset['oddzial1'] = tdset['Oddzial'].astype(str)\n",
        "tdset['oddzial1'] = tdset['oddzial1'].str.replace(' ', '')\n",
        "tdset['oddzial1'] = tdset['oddzial1'].str.replace('-', '')\n",
        "tdset['oddzial1'] = tdset['oddzial1'].str.strip()\n",
        "tdset['grupowanie'] = tdset['Grupowanie_form_prawnych'].astype(str)\n",
        "tdset['branza1'] = tdset['Branza'].astype(str)\n",
        "tdset['OBT_Type2'] = tdset['OBT_Type2'].str.replace(' ', '')\n",
        "tdset['OBT_Type2'] = tdset['OBT_Type2'].str.replace('&', '')"
      ]
    },
    {
      "cell_type": "code",
      "execution_count": 121,
      "id": "0979bef5",
      "metadata": {
        "id": "0979bef5"
      },
      "outputs": [],
      "source": [
        "# ---------- kodowanie/haszowanie danych (tutaj stringów) na wartości liczbowe\n",
        "tX_pkd = dset['kodpkd'].astype(str)\n",
        "pkd_size = 272\n",
        "encoded_pkd_hash = [hash(str(d)) % pkd_size for d in tX_pkd]\n",
        "tX_pkd_hash = pd.DataFrame(encoded_pkd_hash, columns=['pkd_hash'])\n",
        "\n",
        "encoder = OneHotEncoder(sparse_output=False)  # Ustawienie sparse na False, aby uniknąć ostrzeżenia\n",
        "\n",
        "# One-Hot Encoding dla 'rodzumowy'\n",
        "tX_rumowy_onehot = encoder.fit_transform(dset[['rodzumowy']])\n",
        "tX_rumowy = pd.DataFrame(tX_rumowy_onehot, columns=[f'rumowy_{i}' for i in range(tX_rumowy_onehot.shape[1])])\n",
        "\n",
        "# Hashing Trick dla 'rodzumowy'\n",
        "rumowy_size = 4\n",
        "encoded_rumowy_hash = [hash(str(d)) % rumowy_size for d in dset['rodzumowy']]\n",
        "tX_rumowy_hash = pd.DataFrame(encoded_rumowy_hash, columns=['rumowy_hash'])\n",
        "\n",
        "# One-Hot Encoding dla 'grupowanie'\n",
        "tX_grupowanie_onehot = encoder.fit_transform(dset[['grupowanie']])\n",
        "tX_grupowanie = pd.DataFrame(tX_grupowanie_onehot, columns=[f'grupowanie_{i}' for i in range(tX_grupowanie_onehot.shape[1])])\n",
        "\n",
        "# Hashing Trick dla 'grupowanie'\n",
        "grupowanie_size = 4\n",
        "encoded_grupowanie_hash = [hash(str(d)) % grupowanie_size for d in dset['grupowanie']]\n",
        "tX_grupowanie_hash = pd.DataFrame(encoded_grupowanie_hash, columns=['grupowanie_hash'])\n",
        "\n",
        "# One-Hot Encoding dla 'oddzial1'\n",
        "tX_oddzial1_onehot = encoder.fit_transform(dset[['oddzial1']])\n",
        "tX_oddzial1 = pd.DataFrame(tX_oddzial1_onehot, columns=[f'oddzial1_{i}' for i in range(tX_oddzial1_onehot.shape[1])])\n",
        "\n",
        "# Hashing Trick dla 'oddzial1'\n",
        "oddzial1_size = 24\n",
        "encoded_oddzial1_hash = [hash(str(d)) % oddzial1_size for d in dset['oddzial1']]\n",
        "tX_oddzial1_hash = pd.DataFrame(encoded_oddzial1_hash, columns=['oddzial1_hash'])\n",
        "\n",
        "# One-Hot Encoding dla 'branza1'\n",
        "tX_branza1_onehot = encoder.fit_transform(dset[['branza1']])\n",
        "tX_branza1 = pd.DataFrame(tX_branza1_onehot, columns=[f'branza1_{i}' for i in range(tX_branza1_onehot.shape[1])])\n",
        "\n",
        "# Hashing Trick dla 'branza1'\n",
        "branza1_size = 7\n",
        "encoded_branza1_hash = [hash(str(d)) % branza1_size for d in dset['branza1']]\n",
        "tX_branza1_hash = pd.DataFrame(encoded_branza1_hash, columns=['branza1_hash'])\n",
        "\n",
        "# One-Hot Encoding dla 'OBT_Type2'\n",
        "tX_objlise_onehot = encoder.fit_transform(dset[['OBT_Type2']])\n",
        "tX_objlise = pd.DataFrame(tX_objlise_onehot, columns=[f'OBT_Type2_{i}' for i in range(tX_objlise_onehot.shape[1])])\n",
        "\n",
        "# Hashing Trick dla 'OBT_Type2'\n",
        "objlise_size = 7\n",
        "encoded_OBT_Type2_hash = [hash(str(d)) % objlise_size for d in dset['OBT_Type2']]\n",
        "tX_objlise_hash = pd.DataFrame(encoded_OBT_Type2_hash, columns=['OBT_Type2_hash'])"
      ]
    },
    {
      "cell_type": "code",
      "execution_count": 122,
      "id": "05831812",
      "metadata": {
        "id": "05831812"
      },
      "outputs": [],
      "source": [
        "#------------------------ Model sztucznej sieci neuronowej (ANN)-----------------------------------------------------------\n",
        "\n",
        "# liczba epok oraz rozmiar batcha (hiperparametry modelu)\n",
        "\n",
        "\n",
        "# budowa sieci neuronowych dla różnych typów danych wejściowych\n",
        "inputpkd = Input(shape=(1,), name='in_pkd')\n",
        "pkd = Embedding(pkd_size, 10, input_length=1)(inputpkd)\n",
        "pkd_out = Flatten()(pkd)\n",
        "pkd_out = Dense(200, activation='relu')(pkd_out)\n",
        "\n",
        "\n",
        "inputrumowy = Input(shape=(1,), name='in_rodzaj_umowy')\n",
        "rumowy = Embedding(rumowy_size, 3, input_length=1)(inputrumowy)\n",
        "rumowy_out = Flatten()(rumowy)\n",
        "rumowy_out = Dense(100, activation='relu')(rumowy_out)\n",
        "\n",
        "inputgrupowanie = Input(shape=(1,), name='in_grupowanie')\n",
        "grupowanie = Embedding(grupowanie_size, 3, input_length=1)(inputgrupowanie)\n",
        "grupowanie_out = Flatten()(grupowanie)\n",
        "grupowanie_out = Dense(100, activation='relu')(grupowanie_out)\n",
        "\n",
        "inputoddzial1 = Input(shape=(1,), name='in_oddzial1')\n",
        "oddzial1 = Embedding(oddzial1_size, 10, input_length=1)(inputoddzial1)\n",
        "oddzial1_out = Flatten()(oddzial1)\n",
        "oddzial1_out = Dense(100, activation='relu')(oddzial1_out)\n",
        "\n",
        "inputbranza1 = Input(shape=(1,), name='in_branza1')\n",
        "branza1 = Embedding(branza1_size, 4, input_length=1)(inputbranza1)\n",
        "branza1_out = Flatten()(branza1)\n",
        "branza1_out = Dense(100, activation='relu')(branza1_out)\n",
        "\n",
        "inputobjlise = Input(shape=(1,), name='in_lise_object')\n",
        "objlise = Embedding(objlise_size, 4, input_length=1)(inputobjlise)\n",
        "objlise_out = Flatten()(objlise)\n",
        "objlise_out = Dense(100, activation='relu')(objlise_out)\n",
        "\n",
        "inputnumbers = Input(shape=(11,), name='in_continous')\n",
        "innum = Dense(200, activation=\"relu\")(inputnumbers)\n",
        "innum = BatchNormalization()(innum)\n",
        "num_out = Dense(100, activation=\"relu\")(innum)\n",
        "\n",
        "inputyesno = Input(shape=(3,), name='in_bool')\n",
        "inyesno = Dense(15, activation=\"relu\")(inputyesno)\n",
        "yesno_out = Dense(10, activation=\"relu\")(inyesno)\n",
        "\n",
        "#inputscor = Input(shape=(57,), name='in_scoring')\n",
        "#scor = Embedding(scor_size, 10, input_length=57)(inputscor)\n",
        "#scor_out = Flatten()(scor)\n",
        "#scor_out = Dense(400, activation='relu')(scor_out)\n",
        "\n",
        "#inputcat = Input(shape=(322,), name='in_categorical')\n",
        "#catcode = Dense(1000, activation=\"relu\")(inputcat)\n",
        "#cat_out = Dense(100, activation='relu')(catcode)"
      ]
    },
    {
      "cell_type": "code",
      "execution_count": 123,
      "id": "7750e3e0",
      "metadata": {
        "id": "7750e3e0"
      },
      "outputs": [],
      "source": [
        "merge = concatenate([pkd_out, num_out,rumowy_out,grupowanie_out, yesno_out, oddzial1_out, branza1_out, objlise_out], axis=-1)\n",
        "\n",
        "hidden = Dense(wynik1, activation='relu')(merge)\n",
        "hidden = BatchNormalization()(hidden)\n",
        "hidden = Dense(wynik2, activation='relu')(hidden)\n",
        "hidden = Dense(wynik3, activation='relu')(hidden)\n",
        "output = Dense(1, activation='sigmoid')(hidden)\n",
        "\n",
        "model = Model(inputs=[inputpkd,  inputnumbers, inputrumowy, inputgrupowanie, inputyesno, inputoddzial1,  inputbranza1, inputobjlise], outputs=output)\n",
        "model.compile(optimizer='adam', loss='binary_crossentropy', metrics=metrics)"
      ]
    },
    {
      "cell_type": "code",
      "execution_count": 124,
      "id": "8e50f3c7",
      "metadata": {
        "colab": {
          "base_uri": "https://localhost:8080/"
        },
        "id": "8e50f3c7",
        "outputId": "03637cf5-50e8-4aa7-d7cd-e862111fa286",
        "cellView": "form"
      },
      "outputs": [
        {
          "output_type": "stream",
          "name": "stdout",
          "text": [
            "Model: \"model_4\"\n",
            "__________________________________________________________________________________________________\n",
            " Layer (type)                Output Shape                 Param #   Connected to                  \n",
            "==================================================================================================\n",
            " in_pkd (InputLayer)         [(None, 1)]                  0         []                            \n",
            "                                                                                                  \n",
            " in_continous (InputLayer)   [(None, 11)]                 0         []                            \n",
            "                                                                                                  \n",
            " in_rodzaj_umowy (InputLaye  [(None, 1)]                  0         []                            \n",
            " r)                                                                                               \n",
            "                                                                                                  \n",
            " in_grupowanie (InputLayer)  [(None, 1)]                  0         []                            \n",
            "                                                                                                  \n",
            " in_oddzial1 (InputLayer)    [(None, 1)]                  0         []                            \n",
            "                                                                                                  \n",
            " in_branza1 (InputLayer)     [(None, 1)]                  0         []                            \n",
            "                                                                                                  \n",
            " in_lise_object (InputLayer  [(None, 1)]                  0         []                            \n",
            " )                                                                                                \n",
            "                                                                                                  \n",
            " embedding_26 (Embedding)    (None, 1, 10)                2720      ['in_pkd[0][0]']              \n",
            "                                                                                                  \n",
            " dense_62 (Dense)            (None, 200)                  2400      ['in_continous[0][0]']        \n",
            "                                                                                                  \n",
            " embedding_27 (Embedding)    (None, 1, 3)                 12        ['in_rodzaj_umowy[0][0]']     \n",
            "                                                                                                  \n",
            " embedding_28 (Embedding)    (None, 1, 3)                 12        ['in_grupowanie[0][0]']       \n",
            "                                                                                                  \n",
            " in_bool (InputLayer)        [(None, 3)]                  0         []                            \n",
            "                                                                                                  \n",
            " embedding_29 (Embedding)    (None, 1, 10)                240       ['in_oddzial1[0][0]']         \n",
            "                                                                                                  \n",
            " embedding_30 (Embedding)    (None, 1, 4)                 28        ['in_branza1[0][0]']          \n",
            "                                                                                                  \n",
            " embedding_31 (Embedding)    (None, 1, 4)                 28        ['in_lise_object[0][0]']      \n",
            "                                                                                                  \n",
            " flatten_24 (Flatten)        (None, 10)                   0         ['embedding_26[0][0]']        \n",
            "                                                                                                  \n",
            " batch_normalization_8 (Bat  (None, 200)                  800       ['dense_62[0][0]']            \n",
            " chNormalization)                                                                                 \n",
            "                                                                                                  \n",
            " flatten_25 (Flatten)        (None, 3)                    0         ['embedding_27[0][0]']        \n",
            "                                                                                                  \n",
            " flatten_26 (Flatten)        (None, 3)                    0         ['embedding_28[0][0]']        \n",
            "                                                                                                  \n",
            " dense_64 (Dense)            (None, 15)                   60        ['in_bool[0][0]']             \n",
            "                                                                                                  \n",
            " flatten_27 (Flatten)        (None, 10)                   0         ['embedding_29[0][0]']        \n",
            "                                                                                                  \n",
            " flatten_28 (Flatten)        (None, 4)                    0         ['embedding_30[0][0]']        \n",
            "                                                                                                  \n",
            " flatten_29 (Flatten)        (None, 4)                    0         ['embedding_31[0][0]']        \n",
            "                                                                                                  \n",
            " dense_56 (Dense)            (None, 200)                  2200      ['flatten_24[0][0]']          \n",
            "                                                                                                  \n",
            " dense_63 (Dense)            (None, 100)                  20100     ['batch_normalization_8[0][0]'\n",
            "                                                                    ]                             \n",
            "                                                                                                  \n",
            " dense_57 (Dense)            (None, 100)                  400       ['flatten_25[0][0]']          \n",
            "                                                                                                  \n",
            " dense_58 (Dense)            (None, 100)                  400       ['flatten_26[0][0]']          \n",
            "                                                                                                  \n",
            " dense_65 (Dense)            (None, 10)                   160       ['dense_64[0][0]']            \n",
            "                                                                                                  \n",
            " dense_59 (Dense)            (None, 100)                  1100      ['flatten_27[0][0]']          \n",
            "                                                                                                  \n",
            " dense_60 (Dense)            (None, 100)                  500       ['flatten_28[0][0]']          \n",
            "                                                                                                  \n",
            " dense_61 (Dense)            (None, 100)                  500       ['flatten_29[0][0]']          \n",
            "                                                                                                  \n",
            " concatenate_4 (Concatenate  (None, 810)                  0         ['dense_56[0][0]',            \n",
            " )                                                                   'dense_63[0][0]',            \n",
            "                                                                     'dense_57[0][0]',            \n",
            "                                                                     'dense_58[0][0]',            \n",
            "                                                                     'dense_65[0][0]',            \n",
            "                                                                     'dense_59[0][0]',            \n",
            "                                                                     'dense_60[0][0]',            \n",
            "                                                                     'dense_61[0][0]']            \n",
            "                                                                                                  \n",
            " dense_66 (Dense)            (None, 600)                  486600    ['concatenate_4[0][0]']       \n",
            "                                                                                                  \n",
            " batch_normalization_9 (Bat  (None, 600)                  2400      ['dense_66[0][0]']            \n",
            " chNormalization)                                                                                 \n",
            "                                                                                                  \n",
            " dense_67 (Dense)            (None, 1000)                 601000    ['batch_normalization_9[0][0]'\n",
            "                                                                    ]                             \n",
            "                                                                                                  \n",
            " dense_68 (Dense)            (None, 150)                  150150    ['dense_67[0][0]']            \n",
            "                                                                                                  \n",
            " dense_69 (Dense)            (None, 1)                    151       ['dense_68[0][0]']            \n",
            "                                                                                                  \n",
            "==================================================================================================\n",
            "Total params: 1271961 (4.85 MB)\n",
            "Trainable params: 1270361 (4.85 MB)\n",
            "Non-trainable params: 1600 (6.25 KB)\n",
            "__________________________________________________________________________________________________\n",
            "None\n"
          ]
        }
      ],
      "source": [
        "# @title\n",
        "print(model.summary())"
      ]
    },
    {
      "cell_type": "code",
      "execution_count": 125,
      "id": "cf6e2b1e",
      "metadata": {
        "colab": {
          "base_uri": "https://localhost:8080/"
        },
        "id": "cf6e2b1e",
        "outputId": "5e251cc9-2e89-48a6-8ee8-6923c1b71b3b"
      },
      "outputs": [
        {
          "output_type": "stream",
          "name": "stdout",
          "text": [
            "(10000, 11)\n",
            "[(None, 1)]\n",
            "2.14.0\n"
          ]
        }
      ],
      "source": [
        "# Sprawdź kształt danych wejściowych\n",
        "print(X.shape)\n",
        "\n",
        "# Sprawdź wartość argumentu `input_shape` dla warstwy `Dense`\n",
        "print(model.layers[0].input_shape)\n",
        "\n",
        "# Sprawdź wersję TensorFlow\n",
        "print(tf.__version__)"
      ]
    },
    {
      "cell_type": "code",
      "execution_count": 126,
      "id": "d049cc53",
      "metadata": {
        "colab": {
          "base_uri": "https://localhost:8080/",
          "height": 807
        },
        "id": "d049cc53",
        "outputId": "9677028f-573b-47de-a377-b76ed08aa446"
      },
      "outputs": [
        {
          "output_type": "stream",
          "name": "stdout",
          "text": [
            "Epoch 1/10\n"
          ]
        },
        {
          "output_type": "error",
          "ename": "ValueError",
          "evalue": "ignored",
          "traceback": [
            "\u001b[0;31m---------------------------------------------------------------------------\u001b[0m",
            "\u001b[0;31mValueError\u001b[0m                                Traceback (most recent call last)",
            "\u001b[0;32m<ipython-input-126-f6f56f0a9198>\u001b[0m in \u001b[0;36m<cell line: 1>\u001b[0;34m()\u001b[0m\n\u001b[0;32m----> 1\u001b[0;31m h = model.fit(\n\u001b[0m\u001b[1;32m      2\u001b[0m     [np.array(X_pkd), np.array(X), np.array(X_rumowy), np.array(X_grupowanie), np.array(X_yesno), np.array(X_oddzial1),\n\u001b[1;32m      3\u001b[0m      np.array(X_branza1), np.array(X_objlise)], \n\u001b[1;32m      4\u001b[0m     \u001b[0mY\u001b[0m\u001b[0;34m,\u001b[0m\u001b[0;34m\u001b[0m\u001b[0;34m\u001b[0m\u001b[0m\n\u001b[1;32m      5\u001b[0m     validation_data=(\n",
            "\u001b[0;32m/usr/local/lib/python3.10/dist-packages/keras/src/utils/traceback_utils.py\u001b[0m in \u001b[0;36merror_handler\u001b[0;34m(*args, **kwargs)\u001b[0m\n\u001b[1;32m     68\u001b[0m             \u001b[0;31m# To get the full stack trace, call:\u001b[0m\u001b[0;34m\u001b[0m\u001b[0;34m\u001b[0m\u001b[0m\n\u001b[1;32m     69\u001b[0m             \u001b[0;31m# `tf.debugging.disable_traceback_filtering()`\u001b[0m\u001b[0;34m\u001b[0m\u001b[0;34m\u001b[0m\u001b[0m\n\u001b[0;32m---> 70\u001b[0;31m             \u001b[0;32mraise\u001b[0m \u001b[0me\u001b[0m\u001b[0;34m.\u001b[0m\u001b[0mwith_traceback\u001b[0m\u001b[0;34m(\u001b[0m\u001b[0mfiltered_tb\u001b[0m\u001b[0;34m)\u001b[0m \u001b[0;32mfrom\u001b[0m \u001b[0;32mNone\u001b[0m\u001b[0;34m\u001b[0m\u001b[0;34m\u001b[0m\u001b[0m\n\u001b[0m\u001b[1;32m     71\u001b[0m         \u001b[0;32mfinally\u001b[0m\u001b[0;34m:\u001b[0m\u001b[0;34m\u001b[0m\u001b[0;34m\u001b[0m\u001b[0m\n\u001b[1;32m     72\u001b[0m             \u001b[0;32mdel\u001b[0m \u001b[0mfiltered_tb\u001b[0m\u001b[0;34m\u001b[0m\u001b[0;34m\u001b[0m\u001b[0m\n",
            "\u001b[0;32m/usr/local/lib/python3.10/dist-packages/keras/src/engine/training.py\u001b[0m in \u001b[0;36mtf__train_function\u001b[0;34m(iterator)\u001b[0m\n\u001b[1;32m     13\u001b[0m                 \u001b[0;32mtry\u001b[0m\u001b[0;34m:\u001b[0m\u001b[0;34m\u001b[0m\u001b[0;34m\u001b[0m\u001b[0m\n\u001b[1;32m     14\u001b[0m                     \u001b[0mdo_return\u001b[0m \u001b[0;34m=\u001b[0m \u001b[0;32mTrue\u001b[0m\u001b[0;34m\u001b[0m\u001b[0;34m\u001b[0m\u001b[0m\n\u001b[0;32m---> 15\u001b[0;31m                     \u001b[0mretval_\u001b[0m \u001b[0;34m=\u001b[0m \u001b[0mag__\u001b[0m\u001b[0;34m.\u001b[0m\u001b[0mconverted_call\u001b[0m\u001b[0;34m(\u001b[0m\u001b[0mag__\u001b[0m\u001b[0;34m.\u001b[0m\u001b[0mld\u001b[0m\u001b[0;34m(\u001b[0m\u001b[0mstep_function\u001b[0m\u001b[0;34m)\u001b[0m\u001b[0;34m,\u001b[0m \u001b[0;34m(\u001b[0m\u001b[0mag__\u001b[0m\u001b[0;34m.\u001b[0m\u001b[0mld\u001b[0m\u001b[0;34m(\u001b[0m\u001b[0mself\u001b[0m\u001b[0;34m)\u001b[0m\u001b[0;34m,\u001b[0m \u001b[0mag__\u001b[0m\u001b[0;34m.\u001b[0m\u001b[0mld\u001b[0m\u001b[0;34m(\u001b[0m\u001b[0miterator\u001b[0m\u001b[0;34m)\u001b[0m\u001b[0;34m)\u001b[0m\u001b[0;34m,\u001b[0m \u001b[0;32mNone\u001b[0m\u001b[0;34m,\u001b[0m \u001b[0mfscope\u001b[0m\u001b[0;34m)\u001b[0m\u001b[0;34m\u001b[0m\u001b[0;34m\u001b[0m\u001b[0m\n\u001b[0m\u001b[1;32m     16\u001b[0m                 \u001b[0;32mexcept\u001b[0m\u001b[0;34m:\u001b[0m\u001b[0;34m\u001b[0m\u001b[0;34m\u001b[0m\u001b[0m\n\u001b[1;32m     17\u001b[0m                     \u001b[0mdo_return\u001b[0m \u001b[0;34m=\u001b[0m \u001b[0;32mFalse\u001b[0m\u001b[0;34m\u001b[0m\u001b[0;34m\u001b[0m\u001b[0m\n",
            "\u001b[0;31mValueError\u001b[0m: in user code:\n\n    File \"/usr/local/lib/python3.10/dist-packages/keras/src/engine/training.py\", line 1377, in train_function  *\n        return step_function(self, iterator)\n    File \"/usr/local/lib/python3.10/dist-packages/keras/src/engine/training.py\", line 1360, in step_function  **\n        outputs = model.distribute_strategy.run(run_step, args=(data,))\n    File \"/usr/local/lib/python3.10/dist-packages/keras/src/engine/training.py\", line 1349, in run_step  **\n        outputs = model.train_step(data)\n    File \"/usr/local/lib/python3.10/dist-packages/keras/src/engine/training.py\", line 1126, in train_step\n        y_pred = self(x, training=True)\n    File \"/usr/local/lib/python3.10/dist-packages/keras/src/utils/traceback_utils.py\", line 70, in error_handler\n        raise e.with_traceback(filtered_tb) from None\n    File \"/usr/local/lib/python3.10/dist-packages/keras/src/engine/input_spec.py\", line 280, in assert_input_compatibility\n        raise ValueError(\n\n    ValueError: Exception encountered when calling layer 'model_4' (type Functional).\n    \n    Input 0 of layer \"dense_57\" is incompatible with the layer: expected axis -1 of input shape to have value 3, but received input with shape (500, 12)\n    \n    Call arguments received by layer 'model_4' (type Functional):\n      • inputs=('tf.Tensor(shape=(500,), dtype=string)', 'tf.Tensor(shape=(500, 11), dtype=float32)', 'tf.Tensor(shape=(500, 4), dtype=float32)', 'tf.Tensor(shape=(500, 6), dtype=float32)', 'tf.Tensor(shape=(500, 3), dtype=float32)', 'tf.Tensor(shape=(500, 23), dtype=float32)', 'tf.Tensor(shape=(500, 7), dtype=float32)', 'tf.Tensor(shape=(500, 7), dtype=float32)')\n      • training=True\n      • mask=None\n"
          ]
        }
      ],
      "source": [
        "h = model.fit(\n",
        "    [np.array(X_pkd), np.array(X), np.array(X_rumowy), np.array(X_grupowanie), np.array(X_yesno), np.array(X_oddzial1),\n",
        "     np.array(X_branza1), np.array(X_objlise)],\n",
        "    Y,\n",
        "    validation_data=(\n",
        "        [np.array(tX_pkd), np.array(tX), np.array(tX_rumowy), np.array(tX_grupowanie), np.array(tX_yesno), np.array(tX_oddzial1),\n",
        "         np.array(tX_branza1), np.array(tX_objlise)],\n",
        "        tY\n",
        "    ),\n",
        "    epochs=num_epochs,\n",
        "    batch_size=batchsize\n",
        ")\n",
        "\n",
        "model.save_weights(\"model3_weights.h5\", overwrite=True)\n",
        "model.save('model3_structure.h5', overwrite=True)\n",
        "print(\"Czas symulacji: \", time.time() - t)\n"
      ]
    },
    {
      "cell_type": "code",
      "execution_count": null,
      "id": "24967b7b",
      "metadata": {
        "id": "24967b7b"
      },
      "outputs": [],
      "source": [
        "model.save_weights(\"model3_weights.h5\", overwrite=True)\n",
        "model.save('model3_structure.h5', overwrite=True)\n",
        "print(\"Czas symulacji: \", time.time() - t)"
      ]
    },
    {
      "cell_type": "code",
      "execution_count": null,
      "id": "4AK4W6KGDEoS",
      "metadata": {
        "id": "4AK4W6KGDEoS"
      },
      "outputs": [],
      "source": [
        "####użyć tylko raz, jak następny kod nie działa !!\n",
        "#df = pd.DataFrame()\n",
        "#file_name = 'wyniki_treningu.xlsx'\n",
        "#df.to_excel(file_name, index=False)\n",
        "#print(f\"Plik {file_name} został utworzony.\")"
      ]
    },
    {
      "cell_type": "code",
      "execution_count": null,
      "id": "ghMUFxaaDOU_",
      "metadata": {
        "id": "ghMUFxaaDOU_"
      },
      "outputs": [],
      "source": [
        "training_results = []\n",
        "\n",
        "for i in range(num_epochs):\n",
        "    epoch_results = {\n",
        "        'loss': h.history['loss'][i],\n",
        "        'val_loss': h.history['val_loss'][i],\n",
        "        'val_accuracy': h.history['val_accuracy'][i],\n",
        "        'val_precision': h.history['val_precision'][i],\n",
        "        'val_recall': h.history['val_recall'][i],\n",
        "        'val_auc': h.history['val_auc'][i],\n",
        "        'czas_symulacji': time.time() - t\n",
        "    }\n",
        "\n",
        "    training_results.append(epoch_results)\n",
        "\n",
        "results_df = pd.DataFrame(training_results)\n",
        "\n",
        "title_epochs = f\"Wyniki treningu dla {num_epochs} epok\"\n",
        "title_1 = f\"Dense 1: {wynik1}\"\n",
        "title_2 = f\"Dense 2: {wynik2}\"\n",
        "title_3 = f\"Dense 3: {wynik3}\"\n",
        "\n",
        "sheet_name = f'Sheet_{int(time.time())}'\n",
        "\n",
        "with pd.ExcelWriter('wyniki_treningu.xlsx', engine='openpyxl', mode='a', if_sheet_exists='replace') as writer:\n",
        "    results_df.to_excel(writer, index=False, sheet_name=sheet_name)\n",
        "\n",
        "    worksheet = writer.sheets[sheet_name]\n",
        "\n",
        "    worksheet.cell(row=1, column=22, value=title_epochs)\n",
        "    worksheet.cell(row=2, column=22, value=title_1)\n",
        "    worksheet.cell(row=3, column=22, value=title_2)\n",
        "    worksheet.cell(row=4, column=22, value=title_3)\n",
        "\n",
        "print(results_df.head())"
      ]
    },
    {
      "cell_type": "code",
      "execution_count": null,
      "id": "9c6bdab4",
      "metadata": {
        "id": "9c6bdab4"
      },
      "outputs": [],
      "source": [
        "# dodatkowe elementy (można zakomentować); rysowanie wykresu dokładności ANN; Dokładnośc ANN dla Defaultów\n",
        "plt.plot(h.history['val_accuracy'])\n",
        "\n",
        "#plt.plot(h.history['accuracy'])\n",
        "\n",
        "#plt.plot(h.history['val_accuracy'])\n",
        "\n",
        "#plt.title('Model accuracy')\n",
        "\n",
        "#plt.ylabel('Accuracy')\n",
        "\n",
        "#plt.xlabel('Epoch')\n",
        "\n",
        "#plt.legend(['Train', 'Test'], loc='upper left')\n",
        "\n",
        "\n",
        "\n",
        "accuracy = model.evaluate([np.array(tX_pkd),np.array(tX), np.array(tX_rumowy), np.array(tX_grupowanie), np.array(tX_yesno),\n",
        "                           np.array(tX_oddzial1), np.array(tX_branza1), np.array(tX_objlise)], tY)\n",
        "print('Accuracy: %f' % (accuracy[1]))\n",
        "\n",
        "ypred = model.predict([np.array(tX_pkd),np.array(tX), np.array(tX_rumowy), np.array(tX_grupowanie), np.array(tX_yesno),\n",
        "                           np.array(tX_oddzial1), np.array(tX_branza1), np.array(tX_objlise)])\n",
        "\n",
        "count = 0\n",
        "total = 0\n",
        "for i in range(len(ypred)):\n",
        "    if tY[i] == 1:\n",
        "        total = total + 1\n",
        "        if ypred[i][0] > 0.5:\n",
        "            count = count + 1\n",
        "print(\"dokładność [1]: \", count/total)\n",
        "\n",
        "count = 0\n",
        "total = 0\n",
        "for i in range(len(ypred)):\n",
        "    if tY[i] == 0:\n",
        "        total = total + 1\n",
        "        if ypred[i][0] < 0.5:\n",
        "            count = count + 1\n",
        "print(\"dokładność [0]: \", count/total)\n",
        "plt.show()"
      ]
    },
    {
      "cell_type": "code",
      "execution_count": null,
      "id": "45d5b9d6",
      "metadata": {
        "id": "45d5b9d6"
      },
      "outputs": [],
      "source": []
    },
    {
      "cell_type": "code",
      "execution_count": null,
      "id": "655d6105",
      "metadata": {
        "id": "655d6105"
      },
      "outputs": [],
      "source": []
    }
  ],
  "metadata": {
    "colab": {
      "provenance": []
    },
    "kernelspec": {
      "display_name": "Python 3 (ipykernel)",
      "language": "python",
      "name": "python3"
    },
    "language_info": {
      "codemirror_mode": {
        "name": "ipython",
        "version": 3
      },
      "file_extension": ".py",
      "mimetype": "text/x-python",
      "name": "python",
      "nbconvert_exporter": "python",
      "pygments_lexer": "ipython3",
      "version": "3.11.4"
    }
  },
  "nbformat": 4,
  "nbformat_minor": 5
}